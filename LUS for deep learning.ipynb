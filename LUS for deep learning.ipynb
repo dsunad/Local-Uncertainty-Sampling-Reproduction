{
 "cells": [
  {
   "cell_type": "code",
   "execution_count": 146,
   "metadata": {},
   "outputs": [],
   "source": [
    "import numpy as np\n",
    "from scipy import stats\n",
    "import time\n",
    "import matplotlib.pyplot as plt\n",
    "from sklearn.datasets import make_blobs\n",
    "from matplotlib import pyplot\n",
    "from pandas import DataFrame\n",
    "from sklearn.linear_model import LogisticRegression \n",
    "import tensorflow as tf\n",
    "import matplotlib.gridspec as gridspec"
   ]
  },
  {
   "cell_type": "code",
   "execution_count": 147,
   "metadata": {},
   "outputs": [],
   "source": [
    "def Bernoulli(p):\n",
    "    np.random.seed(int(time.time()))\n",
    "    if np.random.random()<p :\n",
    "        return 1\n",
    "    else :\n",
    "        return 0\n",
    "    \n",
    "def get_Q(P_xy):\n",
    "    \"\"\"\n",
    "    P_xy is the K*n matrix indicating probability p(xi,yi=k)\n",
    "    return Q is n*1 matrix indicating qi=max(0.5, p(i,1),..., p(i,K))\n",
    "    \n",
    "    \"\"\"\n",
    "    K, n = np.shape(P_xy)\n",
    "    Q = np.max(P_xy, axis=0)\n",
    "    Q[Q<0.5]=0.5\n",
    "    return Q\n",
    "\n",
    "\n",
    "def get_A(P_xy, gamma):\n",
    "    \"\"\"\n",
    "    gamma>1 is a parameter\n",
    "    return A K*n is the sampling probability 改成n*K?\n",
    "    \n",
    "    \"\"\"\n",
    "    K, n = np.shape(P_xy)\n",
    "    Q=get_Q(P_xy)\n",
    "    a = 2*Q/gamma\n",
    "    a[a>1]=1\n",
    "    A=np.matrix([a, ]* K)\n",
    "    A=np.asarray(A)\n",
    "    idx=np.argmax(P_xy, axis=0)#每一列最大值\n",
    "    for i in range(0, n):\n",
    "            if(P_xy[idx[i], i]>=0.5):\n",
    "                A[idx[i], i]=(1-Q[i])/(gamma-np.max([Q[i], 0.5*gamma]))\n",
    "    return A.T\n",
    "\n",
    "\n",
    "def get_Z(P_xy, Y, gamma):\n",
    "    \"\"\"\n",
    "    sample zi~Bernoulli(a(xi, yi): zi=1)\n",
    "    class label Y is needed, each value yi is in [0, K-1]\n",
    "    return Z n*1 {0,1} matrix indicating whether to use that sample\n",
    "    \n",
    "    \"\"\"\n",
    "    n, = Y.shape\n",
    "    A = get_A(P_xy, gamma)\n",
    "    Z = np.zeros(n)\n",
    "    i=0\n",
    "    for i in range(0,n):\n",
    "        Z[i]=Bernoulli(A[i, int(Y[i])])\n",
    "        \n",
    "    return Z\n",
    "\n",
    "\n",
    "def get_sample(X, Y, P_xy, gamma):\n",
    "    \"\"\"\n",
    "    subsample X and Y to get training sample and also the corresponding A\n",
    "    X is n*p\n",
    "    y is n\n",
    "    \n",
    "    \"\"\"\n",
    "    Z = get_Z(P_xy, Y, gamma)\n",
    "    X_sample = X[Z==1, :]\n",
    "    Y_sample = np.array(Y)[Z==1]\n",
    "    A = get_A(P_xy, gamma)\n",
    "    A_sample = A[Z==1, :]\n",
    "    return X_sample, Y_sample, A_sample"
   ]
  },
  {
   "cell_type": "code",
   "execution_count": 148,
   "metadata": {},
   "outputs": [],
   "source": [
    "\"\"\"\n",
    "Network architecture\n",
    "input -> 5*5*32convolution -> 2*2 max pooling -> 5*5*64 convolution -> 2*2 max pooling -> 2*2*1024 -> ReLu -> Likelihood function\n",
    "\n",
    "\"\"\"\n",
    "X = tf.placeholder(tf.float32, [None, num_input])\n",
    "Y = tf.placeholder(tf.float32, [None, num_classes])\n",
    "A = tf.placeholder(tf.float32, [None, num_classes])  # 我们自己的把A加进去\n",
    "keep_prob = tf.placeholder(tf.float32)\n",
    "def conv2d(x, W, b, strides=1):\n",
    "    # Conv2D wrapper, with bias and relu activation\n",
    "    x = tf.nn.conv2d(x, W, strides=[1, strides, strides, 1], padding='VALID')\n",
    "    x = tf.nn.bias_add(x, b)\n",
    "    return tf.nn.relu(x)\n",
    "def maxpool2d(x, k=2):\n",
    "    # MaxPool2D wrapper\n",
    "    return tf.nn.max_pool(x, ksize=[1, k, k, 1], strides=[1, k, k, 1],padding='VALID')\n",
    "# 创建模型\n",
    "def conv_net(x, weights, biases, dropout):\n",
    "    x = tf.reshape(x, shape=[-1, 28, 28, 1])\n",
    "    # Convolution Layer\n",
    "    conv1 = conv2d(x, weights['wc1'], biases['bc1'])\n",
    "    # Max Pooling (down-sampling)\n",
    "    conv1 = maxpool2d(conv1, k=2)\n",
    "    # Convolution Layer\n",
    "    conv2 = conv2d(conv1, weights['wc2'], biases['bc2'])\n",
    "    # Max Pooling (down-sampling)\n",
    "    conv2 = maxpool2d(conv2, k=2)\n",
    "    # Fully connected layer\n",
    "    # Reshape conv2 output to fit fully connected layer input\n",
    "    fc1 = tf.reshape(conv2, [-1, weights['wd1'].get_shape().as_list()[0]])\n",
    "    fc1 = tf.add(tf.matmul(fc1, weights['wd1']), biases['bd1'])\n",
    "    fc1 = tf.nn.relu(fc1)\n",
    "    # Apply Dropout\n",
    "    fc1 = tf.nn.dropout(fc1, dropout)\n",
    "    # Output, class prediction\n",
    "    out = tf.add(tf.matmul(fc1, weights['out']), biases['out'])\n",
    "    return out\n",
    "weights = {\n",
    "    # 5x5 conv, 1 input, 32 outputs\n",
    "    'wc1': tf.Variable(tf.truncated_normal([5, 5, 1, 32],mean=0,stddev=0.1)),\n",
    "    # 5x5 conv, 32 inputs, 64 outputs\n",
    "    'wc2': tf.Variable(tf.truncated_normal([5, 5, 32, 64],mean=0,stddev=0.1)),\n",
    "    # fully connected, 4*4*64 inputs, 1024 outputs\n",
    "    'wd1': tf.Variable(tf.truncated_normal([4 * 4 * 64, 1024],mean=0,stddev=0.1)),\n",
    "    # 1024 inputs, 9 outputs (class prediction)\n",
    "    'out': tf.Variable(tf.truncated_normal([1024, num_classes - 1],mean=0,stddev=0.1))\n",
    "}\n",
    "biases = {\n",
    "    'bc1': tf.Variable(tf.truncated_normal([32],mean=0,stddev=0.1)),\n",
    "    'bc2': tf.Variable(tf.truncated_normal([64],mean=0,stddev=0.1)),\n",
    "    'bd1': tf.Variable(tf.truncated_normal([1024],mean=0,stddev=0.1)),\n",
    "    'out': tf.Variable(tf.truncated_normal([num_classes - 1],mean=0,stddev=0.1))\n",
    "} \n",
    "# Construct model\n",
    "logits = conv_net(X, weights, biases, keep_prob)  # (batch_Size, K-1)\n",
    "G = tf.concat([logits, tf.cast(np.zeros((batch_size, 1)), tf.float32)], axis=1)\n",
    "temp1 = tf.multiply(G, Y)\n",
    "temp1 = tf.reduce_sum(temp1, axis=1)\n",
    "temp1 = tf.reduce_mean(temp1)\n",
    "temp2 = tf.exp(logits)\n",
    "temp2 = tf.reduce_sum(temp2, axis=1)\n",
    "temp2 = tf.add(temp2, 1.0)\n",
    "temp2 = tf.log(temp2)\n",
    "temp2 = tf.reduce_mean(temp2)\n",
    "loss_op = tf.subtract(temp1, temp2)\n",
    "loss_op = tf.subtract(0.0, loss_op)\n",
    "pred = tf.argmax(G, 1)\n",
    "# Define loss and optimizer\n",
    "optimizer = tf.train.AdamOptimizer(learning_rate=learning_rate)\n",
    "train_op = optimizer.minimize(loss_op)\n",
    "# Evaluate model\n",
    "correct_pred = tf.equal(pred, tf.argmax(Y, 1))\n",
    "accuracy = tf.reduce_mean(tf.cast(correct_pred, tf.float32))\n",
    "init = tf.global_variables_initializer()\n",
    "saver = tf.train.Saver(tf.trainable_variables())\n"
   ]
  },
  {
   "cell_type": "code",
   "execution_count": 150,
   "metadata": {},
   "outputs": [
    {
     "name": "stdout",
     "output_type": "stream",
     "text": [
      "Extracting ./MNIST_data\\train-images-idx3-ubyte.gz\n",
      "Extracting ./MNIST_data\\train-labels-idx1-ubyte.gz\n",
      "Extracting ./MNIST_data\\t10k-images-idx3-ubyte.gz\n",
      "Extracting ./MNIST_data\\t10k-labels-idx1-ubyte.gz\n"
     ]
    },
    {
     "name": "stderr",
     "output_type": "stream",
     "text": [
      "C:\\Users\\Misika Mei\\Anaconda3\\lib\\site-packages\\sklearn\\linear_model\\logistic.py:433: FutureWarning: Default solver will be changed to 'lbfgs' in 0.22. Specify a solver to silence this warning.\n",
      "  FutureWarning)\n",
      "C:\\Users\\Misika Mei\\Anaconda3\\lib\\site-packages\\sklearn\\linear_model\\logistic.py:460: FutureWarning: Default multi_class will be changed to 'auto' in 0.22. Specify the multi_class option to silence this warning.\n",
      "  \"this warning.\", FutureWarning)\n"
     ]
    },
    {
     "data": {
      "text/plain": [
       "[<matplotlib.lines.Line2D at 0x171e9f8be10>]"
      ]
     },
     "execution_count": 150,
     "metadata": {},
     "output_type": "execute_result"
    },
    {
     "data": {
      "image/png": "[encoded data removed]",
      "text/plain": [
       "<Figure size 432x288 with 1 Axes>"
      ]
     },
     "metadata": {
      "needs_background": "light"
     },
     "output_type": "display_data"
    }
   ],
   "source": [
    "##测试一下gamma与sample数量的关系\n",
    "#val_label永远保持非one hot的形式，用于训练取样，后来的y_val为one hot形式， 标记一下\n",
    "from tensorflow.examples.tutorials.mnist import input_data\n",
    "mnist = input_data.read_data_sets('./MNIST_data', one_hot=False)\n",
    "val_data = mnist.validation.images  #(5000,784)\n",
    "val_labels = mnist.validation.labels\n",
    "train_labels = mnist.train.labels\n",
    "train_data = mnist.train.images\n",
    "#####\n",
    "X_train = mnist.train.images\n",
    "y_train = mnist.train.labels\n",
    "y_train = np.eye(num_classes)[y_train]\n",
    "X_val = mnist.validation.images  #(5000,784)\n",
    "y_val = mnist.validation.labels\n",
    "y_val = np.eye(num_classes)[y_val]\n",
    "X_test = mnist.test.images\n",
    "y_test = mnist.test.labels\n",
    "y_test = np.eye(num_classes)[y_test]\n",
    "\n",
    "classifier = LogisticRegression()\n",
    "classifier.fit(val_data, val_labels)\n",
    "P_xy = classifier.predict_proba(train_data)\n",
    "P_xy = P_xy.T\n",
    "gamma_range = [1.1, 1.2, 1.3, 1.5, 1.8, 2, 2.5, 3, 5, 8, 10]\n",
    "sample_fraction = np.zeros(11)\n",
    "for i in range(11):\n",
    "    X_sample, y_sample, A_sample = get_sample(train_data, train_labels, P_xy, gamma_range[i])\n",
    "    sample_fraction[i] = y_sample.shape[0]/train_labels.shape[0]\n",
    "    \n",
    "plt.plot(gamma_range, sample_fraction)"
   ]
  },
  {
   "cell_type": "code",
   "execution_count": 153,
   "metadata": {},
   "outputs": [
    {
     "name": "stderr",
     "output_type": "stream",
     "text": [
      "C:\\Users\\Misika Mei\\Anaconda3\\lib\\site-packages\\sklearn\\linear_model\\logistic.py:433: FutureWarning: Default solver will be changed to 'lbfgs' in 0.22. Specify a solver to silence this warning.\n",
      "  FutureWarning)\n",
      "C:\\Users\\Misika Mei\\Anaconda3\\lib\\site-packages\\sklearn\\linear_model\\logistic.py:460: FutureWarning: Default multi_class will be changed to 'auto' in 0.22. Specify the multi_class option to silence this warning.\n",
      "  \"this warning.\", FutureWarning)\n"
     ]
    },
    {
     "name": "stdout",
     "output_type": "stream",
     "text": [
      "(10, 55000)\n",
      "accuracy is:  0.8907636363636364\n",
      "# of sample is:  11747\n"
     ]
    }
   ],
   "source": [
    "gamma = 2\n",
    "classifier = LogisticRegression()\n",
    "classifier.fit(val_data, val_labels)\n",
    "P_xy = classifier.predict_proba(train_data)\n",
    "P_xy = P_xy.T\n",
    "print(P_xy.shape)\n",
    "print(\"accuracy is: \",(1-sum(classifier.predict(train_data)!=train_labels)/train_nums))\n",
    "\n",
    "X_sample, y_sample, A_sample = get_sample(train_data, train_labels, P_xy, gamma)\n",
    "#print(y_sample[:10])\n",
    "y_sample = np.eye(num_classes)[y_sample]#数字编码 to one hot, 牛逼\n",
    "\n",
    "\n",
    "print(\"# of sample is: \", y_sample.shape[0])\n"
   ]
  },
  {
   "cell_type": "code",
   "execution_count": 154,
   "metadata": {},
   "outputs": [],
   "source": [
    "learning_rate = 0.0005  # 学习率\n",
    "batch_size = 128  # 批大小\n",
    "num_steps = 600  # 使用的样本数量\n",
    "display_step = 50  # 显示间隔\n",
    "num_input = 784  # image shape:28*28\n",
    "num_classes = 10  # MNIST total classes (0-9 digits)\n",
    "dropout = 0.75  # 用于随机丢弃，防止过拟\n",
    "\n",
    "def get_batch_from_X(X, y, A, batch_size):\n",
    "    \"\"\"\n",
    "    Get a batch and return the corresponding X_batch, y_batch, A_batch\n",
    "    \"\"\"\n",
    "    data_size = X.shape[0]\n",
    "    idx = np.random.permutation(data_size)\n",
    "    X_random = X[idx]\n",
    "    X_batch = X_random[:batch_size, :]\n",
    "    y_random = y[idx]\n",
    "    y_batch = y_random[:batch_size, :]\n",
    "    A_random = A[idx]\n",
    "    A_batch = A_random[:batch_size, :]\n",
    "\n",
    "    return X_batch, y_batch, A_batch\n",
    "\n",
    "def train():\n",
    "    sess.run(init)\n",
    "    for step in range(1, num_steps + 1):\n",
    "        batch_x, batch_y, batch_A = get_batch_from_X(X_sample, y_sample, A_sample, batch_size)\n",
    "        # Run optimization op (backprop)\n",
    "        sess.run(train_op,feed_dict={X: batch_x, Y: batch_y, A: batch_A, keep_prob: dropout})\n",
    "        #print(np.shape(batch_x),np.shape(batch_y))\n",
    "        if step % display_step == 0 or step == 1:\n",
    "            # Calculate batch loss and accuracy\n",
    "            loss, acc = sess.run([loss_op, accuracy], feed_dict={X: batch_x,Y: batch_y,A: batch_A, keep_prob: 1.0})\n",
    "            print(\"Step \" + str(step) + \", Minibatch Loss={:.4f}\".format(loss) + \", Training Accuracy={:.3f}\".format(acc))\n"
   ]
  },
  {
   "cell_type": "code",
   "execution_count": 155,
   "metadata": {},
   "outputs": [
    {
     "name": "stdout",
     "output_type": "stream",
     "text": [
      "Step 1, Minibatch Loss=3.9860, Training Accuracy=0.133\n",
      "Step 50, Minibatch Loss=0.4973, Training Accuracy=0.852\n",
      "Step 100, Minibatch Loss=0.2231, Training Accuracy=0.930\n",
      "Step 150, Minibatch Loss=0.1481, Training Accuracy=0.953\n",
      "Step 200, Minibatch Loss=0.1989, Training Accuracy=0.969\n",
      "Step 250, Minibatch Loss=0.0709, Training Accuracy=0.969\n",
      "Step 300, Minibatch Loss=0.0460, Training Accuracy=0.992\n",
      "Step 350, Minibatch Loss=0.0380, Training Accuracy=0.992\n",
      "Step 400, Minibatch Loss=0.0705, Training Accuracy=0.984\n",
      "Step 450, Minibatch Loss=0.0169, Training Accuracy=1.000\n",
      "Step 500, Minibatch Loss=0.0224, Training Accuracy=1.000\n",
      "Step 550, Minibatch Loss=0.0330, Training Accuracy=0.992\n",
      "Step 600, Minibatch Loss=0.0288, Training Accuracy=0.992\n",
      "test accuracy over 20 batches is : 0.9859375\n"
     ]
    }
   ],
   "source": [
    "test_accuracy = np.zeros(20)\n",
    "with tf.Session() as sess:\n",
    "    train()\n",
    "    for i in range(20):\n",
    "        test_accuracy[i] = sess.run(accuracy, feed_dict={X: X_test[i*batch_size : (i+1)*batch_size,:],Y: y_test[i*batch_size : (i+1)*batch_size,:], \n",
    "                                        A: np.ones([batch_size, num_classes]), keep_prob: 1.0})\n",
    "    print(\"test accuracy over 20 batches is :\", np.mean(test_accuracy))"
   ]
  },
  {
   "cell_type": "code",
   "execution_count": 156,
   "metadata": {},
   "outputs": [
    {
     "data": {
      "text/plain": [
       "'\\n接下来要做一些实验了，\\n1.测试一下这个A是不是有用，尝试一次用np.ones训练\\n2.测试一下取出来的sample在softmax的网络上好不好用\\n3.对比一下uniform sample, 为了省事直接用test_set代替unifor sample的set\\n\\n'"
      ]
     },
     "execution_count": 156,
     "metadata": {},
     "output_type": "execute_result"
    }
   ],
   "source": [
    "\"\"\"\n",
    "接下来要做一些实验了，\n",
    "1.测试一下这个A是不是有用，尝试一次用np.ones训练\n",
    "2.测试一下取出来的sample在softmax的网络上好不好用\n",
    "3.对比一下uniform sample, 为了省事直接用test_set代替unifor sample的set\n",
    "\n",
    "\"\"\""
   ]
  },
  {
   "cell_type": "code",
   "execution_count": 159,
   "metadata": {},
   "outputs": [
    {
     "name": "stderr",
     "output_type": "stream",
     "text": [
      "C:\\Users\\Misika Mei\\Anaconda3\\lib\\site-packages\\sklearn\\linear_model\\logistic.py:433: FutureWarning: Default solver will be changed to 'lbfgs' in 0.22. Specify a solver to silence this warning.\n",
      "  FutureWarning)\n",
      "C:\\Users\\Misika Mei\\Anaconda3\\lib\\site-packages\\sklearn\\linear_model\\logistic.py:460: FutureWarning: Default multi_class will be changed to 'auto' in 0.22. Specify the multi_class option to silence this warning.\n",
      "  \"this warning.\", FutureWarning)\n"
     ]
    },
    {
     "name": "stdout",
     "output_type": "stream",
     "text": [
      "(10, 55000)\n",
      "accuracy is:  0.8907636363636364\n",
      "# of sample is:  8542\n"
     ]
    }
   ],
   "source": [
    "#首先测试A为1的情况\n",
    "gamma = 2\n",
    "classifier = LogisticRegression()\n",
    "classifier.fit(val_data, val_labels)\n",
    "P_xy = classifier.predict_proba(train_data)\n",
    "P_xy = P_xy.T\n",
    "print(P_xy.shape)\n",
    "print(\"accuracy is: \",(1-sum(classifier.predict(train_data)!=train_labels)/train_nums))\n",
    "\n",
    "X_sample, y_sample, A_sample = get_sample(train_data, train_labels, P_xy, gamma)\n",
    "##改动\n",
    "A_sample = np.ones_like(A_sample)\n",
    "#print(y_sample[:10])\n",
    "y_sample = np.eye(num_classes)[y_sample]#数字编码 to one hot, 牛逼\n",
    "\n",
    "\n",
    "print(\"# of sample is: \", y_sample.shape[0])\n"
   ]
  },
  {
   "cell_type": "code",
   "execution_count": 160,
   "metadata": {},
   "outputs": [
    {
     "name": "stdout",
     "output_type": "stream",
     "text": [
      "Step 1, Minibatch Loss=4.0843, Training Accuracy=0.203\n",
      "Step 50, Minibatch Loss=0.6068, Training Accuracy=0.820\n",
      "Step 100, Minibatch Loss=0.1937, Training Accuracy=0.938\n",
      "Step 150, Minibatch Loss=0.1270, Training Accuracy=0.977\n",
      "Step 200, Minibatch Loss=0.1152, Training Accuracy=0.953\n",
      "Step 250, Minibatch Loss=0.0626, Training Accuracy=0.984\n",
      "Step 300, Minibatch Loss=0.0738, Training Accuracy=0.977\n",
      "Step 350, Minibatch Loss=0.0375, Training Accuracy=0.984\n",
      "Step 400, Minibatch Loss=0.0232, Training Accuracy=1.000\n",
      "Step 450, Minibatch Loss=0.0544, Training Accuracy=0.984\n",
      "Step 500, Minibatch Loss=0.0654, Training Accuracy=0.977\n",
      "Step 550, Minibatch Loss=0.0295, Training Accuracy=0.992\n",
      "Step 600, Minibatch Loss=0.0151, Training Accuracy=1.000\n",
      "test accuracy over 20 batches is : 0.98046875\n"
     ]
    },
    {
     "data": {
      "text/plain": [
       "'\\n结论，把训练中的权重A去掉似乎没什么大的影响，应该是因为大部分分类都是准确的，在准确的情况下其他类概率极低\\n加不加权意义不大\\n'"
      ]
     },
     "execution_count": 160,
     "metadata": {},
     "output_type": "execute_result"
    }
   ],
   "source": [
    "test_accuracy = np.zeros(20)\n",
    "with tf.Session() as sess:\n",
    "    train()\n",
    "    for i in range(20):\n",
    "        test_accuracy[i] = sess.run(accuracy, feed_dict={X: X_test[i*batch_size : (i+1)*batch_size,:],Y: y_test[i*batch_size : (i+1)*batch_size,:], \n",
    "                                        A: np.ones([batch_size, num_classes]), keep_prob: 1.0})\n",
    "    print(\"test accuracy over 20 batches is :\", np.mean(test_accuracy))\n",
    "\"\"\"\n",
    "结论，把训练中的权重A去掉似乎没什么大的影响，应该是因为大部分分类都是准确的，在准确的情况下其他类概率极低\n",
    "加不加权意义不大\n",
    "\"\"\""
   ]
  },
  {
   "cell_type": "code",
   "execution_count": 164,
   "metadata": {},
   "outputs": [
    {
     "name": "stdout",
     "output_type": "stream",
     "text": [
      "Step 1, Minibatch Loss=3.1488, Training Accuracy=0.328\n",
      "Step 50, Minibatch Loss=0.1469, Training Accuracy=0.953\n",
      "Step 100, Minibatch Loss=0.1087, Training Accuracy=0.961\n",
      "Step 150, Minibatch Loss=0.0431, Training Accuracy=0.984\n",
      "Step 200, Minibatch Loss=0.0669, Training Accuracy=0.969\n",
      "Step 250, Minibatch Loss=0.0057, Training Accuracy=1.000\n",
      "Step 300, Minibatch Loss=0.0067, Training Accuracy=1.000\n",
      "Step 350, Minibatch Loss=0.0130, Training Accuracy=1.000\n",
      "Step 400, Minibatch Loss=0.0027, Training Accuracy=1.000\n",
      "Step 450, Minibatch Loss=0.0018, Training Accuracy=1.000\n",
      "Step 500, Minibatch Loss=0.0154, Training Accuracy=0.992\n",
      "Step 550, Minibatch Loss=0.0112, Training Accuracy=0.992\n",
      "Step 600, Minibatch Loss=0.0044, Training Accuracy=1.000\n",
      "test accuracy over 20 batches is : 0.98046875\n"
     ]
    },
    {
     "data": {
      "text/plain": [
       "'\\n这种情况我们称之为没有什么显著区别\\n'"
      ]
     },
     "execution_count": 164,
     "metadata": {},
     "output_type": "execute_result"
    }
   ],
   "source": [
    "#对比一下随机取样的, 用测试集的1w个样本代替随机抽样\n",
    "#用val_data来做验证\n",
    "\n",
    "\n",
    "A_s = np.ones([10000, num_classes])\n",
    "\n",
    "def train():\n",
    "    sess.run(init)\n",
    "    for step in range(1, num_steps + 1):\n",
    "        batch_x, batch_y, batch_A = get_batch_from_X(X_test, y_test, A_s, batch_size)\n",
    "        # Run optimization op (backprop)\n",
    "        sess.run(train_op,feed_dict={X: batch_x, Y: batch_y, A: batch_A, keep_prob: dropout})\n",
    "        #print(np.shape(batch_x),np.shape(batch_y))\n",
    "        if step % display_step == 0 or step == 1:\n",
    "            # Calculate batch loss and accuracy\n",
    "            loss, acc = sess.run([loss_op, accuracy], feed_dict={X: batch_x,Y: batch_y,A: batch_A, keep_prob: 1.0})\n",
    "            print(\"Step \" + str(step) + \", Minibatch Loss={:.4f}\".format(loss) + \", Training Accuracy={:.3f}\".format(acc))\n",
    "\n",
    "\n",
    "\n",
    "test_accuracy = np.zeros(20)\n",
    "with tf.Session() as sess:\n",
    "    train()\n",
    "    for i in range(20):\n",
    "        test_accuracy[i] = sess.run(accuracy, feed_dict={X: X_val[i*batch_size : (i+1)*batch_size,:],Y: y_val[i*batch_size : (i+1)*batch_size,:], \n",
    "                                        A: np.ones([batch_size, num_classes]), keep_prob: 1.0})\n",
    "    print(\"test accuracy over 20 batches is :\", np.mean(test_accuracy))\n",
    "    \n",
    "\"\"\"\n",
    "这种情况我们称之为没有什么显著区别\n",
    "\"\"\""
   ]
  },
  {
   "cell_type": "code",
   "execution_count": 165,
   "metadata": {},
   "outputs": [],
   "source": [
    "#然后再来测试一下softmax的普通网络,首先是以刚才的sample为data\n",
    "\n",
    "learning_rate = 0.001 #学习率 \n",
    "batch_size = 128 #批大小\n",
    "num_steps = 500 #使用的样本数量\n",
    "display_step = 50 #显示间隔\n",
    "\n",
    "num_input = 784 #image shape:28*28\n",
    "num_classes = 10 # MNIST total classes (0-9 digits)\n",
    "dropout = 0.75 #用于随机丢弃，防止过拟\n",
    "\n",
    "X = tf.placeholder(tf.float32, [None, num_input])\n",
    "Y = tf.placeholder(tf.float32, [None, num_classes])\n",
    "keep_prob = tf.placeholder(tf.float32)\n",
    "\n",
    "\n",
    "def conv2d(x, W, b, strides=1):\n",
    "    # Conv2D wrapper, with bias and relu activation\n",
    "    x = tf.nn.conv2d(x, W, strides=[1, strides, strides, 1], padding='SAME')\n",
    "    x = tf.nn.bias_add(x, b)\n",
    "    return tf.nn.relu(x)\n",
    "\n",
    "\n",
    "def maxpool2d(x, k=2):\n",
    "    # MaxPool2D wrapper\n",
    "    return tf.nn.max_pool(x, ksize=[1, k, k, 1], strides=[1, k, k, 1],\n",
    "                          padding='SAME')\n",
    "\n",
    "#创建模型\n",
    "def conv_net(x, weights, biases, dropout):\n",
    "\n",
    "    x = tf.reshape(x, shape=[-1, 28, 28, 1])\n",
    "\n",
    "    # Convolution Layer\n",
    "    conv1 = conv2d(x, weights['wc1'], biases['bc1'])\n",
    "    # Max Pooling (down-sampling)\n",
    "    conv1 = maxpool2d(conv1, k=2)\n",
    "\n",
    "    # Convolution Layer\n",
    "    conv2 = conv2d(conv1, weights['wc2'], biases['bc2'])\n",
    "    # Max Pooling (down-sampling)\n",
    "    conv2 = maxpool2d(conv2, k=2)\n",
    "\n",
    "    # Fully connected layer\n",
    "    # Reshape conv2 output to fit fully connected layer input\n",
    "    fc1 = tf.reshape(conv2, [-1, weights['wd1'].get_shape().as_list()[0]])\n",
    "    fc1 = tf.add(tf.matmul(fc1, weights['wd1']), biases['bd1'])\n",
    "    fc1 = tf.nn.relu(fc1)\n",
    "\n",
    "    # Apply Dropout\n",
    "    fc1 = tf.nn.dropout(fc1, dropout)\n",
    "\n",
    "    # Output, class prediction\n",
    "    out = tf.add(tf.matmul(fc1, weights['out']), biases['out'])\n",
    "    return out\n",
    "weights = {\n",
    "    # 5x5 conv, 1 input, 32 outputs\n",
    "    'wc1': tf.Variable(tf.random_normal([5, 5, 1, 32])),\n",
    "    # 5x5 conv, 32 inputs, 64 outputs\n",
    "    'wc2': tf.Variable(tf.random_normal([5, 5, 32, 64])),\n",
    "    # fully connected, 7*7*64 inputs, 1024 outputs\n",
    "    'wd1': tf.Variable(tf.random_normal([7*7*64, 1024])),\n",
    "    # 1024 inputs, 10 outputs (class prediction)\n",
    "    'out': tf.Variable(tf.random_normal([1024, num_classes]))\n",
    "}\n",
    "\n",
    "biases = {\n",
    "    'bc1': tf.Variable(tf.random_normal([32])),\n",
    "    'bc2': tf.Variable(tf.random_normal([64])),\n",
    "    'bd1': tf.Variable(tf.random_normal([1024])),\n",
    "    'out': tf.Variable(tf.random_normal([num_classes]))\n",
    "}\n",
    "\n",
    "# Construct model\n",
    "logits = conv_net(X, weights, biases, keep_prob)\n",
    "prediction = tf.nn.softmax(logits)\n",
    "pred = tf.argmax(prediction, 1)\n",
    "# Define loss and optimizer\n",
    "loss_op = tf.reduce_mean(tf.nn.softmax_cross_entropy_with_logits(\n",
    "    logits=logits, labels=Y))\n",
    "optimizer = tf.train.AdamOptimizer(learning_rate=learning_rate)\n",
    "train_op = optimizer.minimize(loss_op)\n",
    "\n",
    "# Evaluate model\n",
    "correct_pred = tf.equal(pred, tf.argmax(Y, 1))\n",
    "accuracy = tf.reduce_mean(tf.cast(correct_pred, tf.float32))\n",
    "\n",
    "init = tf.global_variables_initializer()\n",
    "saver = tf.train.Saver(tf.trainable_variables())\n",
    "\n",
    "def train():\n",
    "    sess.run(init)\n",
    "    for step in range(1,num_steps+1):\n",
    "        batch_x, batch_y, A_ = get_batch_from_X(X_sample, y_sample, A_sample, batch_size)\n",
    "        # Run optimization op (backprop)\n",
    "        \n",
    "        sess.run(train_op, feed_dict={X: batch_x, Y: batch_y, keep_prob: dropout})\n",
    "        if step % display_step == 0 or step == 1:\n",
    "            # Calculate batch loss and accuracy\n",
    "            loss, acc = sess.run([loss_op, accuracy], feed_dict={X: batch_x,\n",
    "                                                                 Y: batch_y,\n",
    "                                                                 keep_prob: 1.0})\n",
    "            print(\"Step \" + str(step) + \", Minibatch Loss={:.4f}\".format(loss) + \", Training Accuracy={:.3f}\".format(acc))"
   ]
  },
  {
   "cell_type": "code",
   "execution_count": 166,
   "metadata": {},
   "outputs": [
    {
     "name": "stdout",
     "output_type": "stream",
     "text": [
      "Step 1, Minibatch Loss=35831.0156, Training Accuracy=0.133\n",
      "Step 50, Minibatch Loss=8594.5166, Training Accuracy=0.359\n",
      "Step 100, Minibatch Loss=3635.9116, Training Accuracy=0.602\n",
      "Step 150, Minibatch Loss=3565.2568, Training Accuracy=0.625\n",
      "Step 200, Minibatch Loss=1438.3538, Training Accuracy=0.789\n",
      "Step 250, Minibatch Loss=887.3711, Training Accuracy=0.844\n",
      "Step 300, Minibatch Loss=587.2196, Training Accuracy=0.828\n",
      "Step 350, Minibatch Loss=1117.1187, Training Accuracy=0.805\n",
      "Step 400, Minibatch Loss=686.4462, Training Accuracy=0.883\n",
      "Step 450, Minibatch Loss=644.5966, Training Accuracy=0.875\n",
      "Step 500, Minibatch Loss=626.5801, Training Accuracy=0.836\n",
      "test accuracy over 20 batches is : 0.899609375\n"
     ]
    }
   ],
   "source": [
    "test_accuracy = np.zeros(20)\n",
    "with tf.Session() as sess:\n",
    "    train()\n",
    "    for i in range(20):\n",
    "        test_accuracy[i] = sess.run(accuracy, feed_dict={X: X_test[i*batch_size : (i+1)*batch_size,:],Y: y_test[i*batch_size : (i+1)*batch_size,:], \n",
    "                                         keep_prob: 1.0})\n",
    "    print(\"test accuracy over 20 batches is :\", np.mean(test_accuracy))\n",
    "\"\"\"\n",
    "我们的sample在softmax的cnn上效果不是很好\n",
    "\"\"\""
   ]
  },
  {
   "cell_type": "code",
   "execution_count": 167,
   "metadata": {},
   "outputs": [
    {
     "data": {
      "text/plain": [
       "(8542, 784)"
      ]
     },
     "execution_count": 167,
     "metadata": {},
     "output_type": "execute_result"
    }
   ],
   "source": [
    "X_sample.shape"
   ]
  },
  {
   "cell_type": "code",
   "execution_count": 173,
   "metadata": {},
   "outputs": [
    {
     "name": "stdout",
     "output_type": "stream",
     "text": [
      "Step 1, Minibatch Loss=58786.6641, Training Accuracy=0.109\n",
      "Step 50, Minibatch Loss=2919.4658, Training Accuracy=0.820\n",
      "Step 100, Minibatch Loss=2419.5137, Training Accuracy=0.875\n",
      "Step 150, Minibatch Loss=1421.5408, Training Accuracy=0.891\n",
      "Step 200, Minibatch Loss=1384.2700, Training Accuracy=0.914\n",
      "Step 250, Minibatch Loss=746.1592, Training Accuracy=0.945\n",
      "Step 300, Minibatch Loss=781.3927, Training Accuracy=0.945\n",
      "Step 350, Minibatch Loss=541.2388, Training Accuracy=0.977\n",
      "Step 400, Minibatch Loss=486.9713, Training Accuracy=0.938\n",
      "Step 450, Minibatch Loss=986.3697, Training Accuracy=0.938\n",
      "Step 500, Minibatch Loss=541.0728, Training Accuracy=0.969\n",
      "test accuracy over 20 batches is : 0.93203125\n"
     ]
    }
   ],
   "source": [
    "##最后来测试一下softmax方法在整个train_data上的表现\n",
    "\n",
    "def get_batch_from_X1(X, y, batch_size):\n",
    "    \"\"\"\n",
    "    Get a batch and return the corresponding X_batch, y_batch, A_batch\n",
    "    \"\"\"\n",
    "    data_size = X.shape[0]\n",
    "    idx = np.random.permutation(data_size)\n",
    "    X_random = X[idx]\n",
    "    X_batch = X_random[:batch_size, :]\n",
    "    y_random = y[idx]\n",
    "    y_batch = y_random[:batch_size, :]\n",
    "\n",
    "    return X_batch, y_batch\n",
    "\n",
    "\n",
    "def train():\n",
    "    sess.run(init)\n",
    "    for step in range(1,num_steps+1):\n",
    "        batch_x, batch_y = get_batch_from_X1(X_train, y_train, batch_size)\n",
    "        # Run optimization op (backprop)\n",
    "        \n",
    "        sess.run(train_op, feed_dict={X: batch_x, Y: batch_y, keep_prob: dropout})\n",
    "        if step % display_step == 0 or step == 1:\n",
    "            # Calculate batch loss and accuracy\n",
    "            loss, acc = sess.run([loss_op, accuracy], feed_dict={X: batch_x,\n",
    "                                                                 Y: batch_y,\n",
    "                                                                 keep_prob: 1.0})\n",
    "            print(\"Step \" + str(step) + \", Minibatch Loss={:.4f}\".format(loss) + \", Training Accuracy={:.3f}\".format(acc))\n",
    "            \n",
    "            \n",
    "            \n",
    "test_accuracy = np.zeros(20)\n",
    "with tf.Session() as sess:\n",
    "    train()\n",
    "    for i in range(20):\n",
    "        test_accuracy[i] = sess.run(accuracy, feed_dict={X: X_test[i*batch_size : (i+1)*batch_size,:],Y: y_test[i*batch_size : (i+1)*batch_size,:], \n",
    "                                         keep_prob: 1.0})\n",
    "    print(\"test accuracy over 20 batches is :\", np.mean(test_accuracy))"
   ]
  },
  {
   "cell_type": "code",
   "execution_count": null,
   "metadata": {},
   "outputs": [],
   "source": []
  }
 ],
 "metadata": {
  "kernelspec": {
   "display_name": "Python 3",
   "language": "python",
   "name": "python3"
  },
  "language_info": {
   "codemirror_mode": {
    "name": "ipython",
    "version": 3
   },
   "file_extension": ".py",
   "mimetype": "text/x-python",
   "name": "python",
   "nbconvert_exporter": "python",
   "pygments_lexer": "ipython3",
   "version": "3.7.3"
  }
 },
 "nbformat": 4,
 "nbformat_minor": 2
}
